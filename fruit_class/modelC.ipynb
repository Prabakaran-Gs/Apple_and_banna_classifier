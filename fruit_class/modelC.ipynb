{
 "cells": [
  {
   "cell_type": "code",
   "execution_count": 2,
   "metadata": {},
   "outputs": [],
   "source": [
    "import numpy as np\n",
    "import pandas as pd\n",
    "import os\n",
    "import cv2 as cv"
   ]
  },
  {
   "cell_type": "code",
   "execution_count": 3,
   "metadata": {},
   "outputs": [
    {
     "name": "stdout",
     "output_type": "stream",
     "text": [
      "['apple fruit', 'banana fruit', 'cherry fruit', 'chickoo fruit', 'grapes fruit', 'kiwi fruit', 'mango fruit', 'orange fruit', 'strawberry fruit']\n"
     ]
    }
   ],
   "source": [
    "ROOT_DIR = \"D:/ML models/tensor/fruit_class/images\"\n",
    "classes = [name for name in os.listdir(\"D:/ML models/tensor/fruit_class/images\")]\n",
    "print(classes)"
   ]
  },
  {
   "cell_type": "code",
   "execution_count": 4,
   "metadata": {},
   "outputs": [
    {
     "data": {
      "text/plain": [
       "-1"
      ]
     },
     "execution_count": 4,
     "metadata": {},
     "output_type": "execute_result"
    }
   ],
   "source": [
    "sample = cv.imread(\"D:/ML models/tensor/fruit_class/images/banana fruit/Image_1.jpg\")\n",
    "cv.imshow(\"sample\",sample)\n",
    "cv.waitKey(0)"
   ]
  },
  {
   "cell_type": "code",
   "execution_count": 5,
   "metadata": {},
   "outputs": [],
   "source": [
    "x=[]\n",
    "y=[];cl=0"
   ]
  },
  {
   "cell_type": "code",
   "execution_count": 6,
   "metadata": {},
   "outputs": [
    {
     "name": "stdout",
     "output_type": "stream",
     "text": [
      "apple fruit\n",
      "banana fruit\n"
     ]
    }
   ],
   "source": [
    "for class_name in classes[:2] :\n",
    "    for img in os.listdir(ROOT_DIR +\"/\"+class_name):\n",
    "        image_data = cv.imread(ROOT_DIR+\"/\"+class_name+\"/\"+img)\n",
    "        image_data = cv.resize(image_data,(200,200))\n",
    "        image_data = cv.cvtColor(image_data,cv.COLOR_BGR2RGB)\n",
    "\n",
    "        x.append(image_data)\n",
    "        y.append(cl)\n",
    "    cl+=1\n",
    "    print(class_name)\n",
    "x = np.array(x)\n",
    "y = np.array(y)"
   ]
  },
  {
   "cell_type": "code",
   "execution_count": 7,
   "metadata": {},
   "outputs": [],
   "source": [
    "x = x/255.0\n",
    "y = y.reshape(len(y),1)"
   ]
  },
  {
   "cell_type": "code",
   "execution_count": 8,
   "metadata": {},
   "outputs": [],
   "source": [
    "from tensorflow.keras.models import Sequential\n",
    "from tensorflow.keras.layers import Conv2D , MaxPooling2D , Dense , Flatten"
   ]
  },
  {
   "cell_type": "code",
   "execution_count": 9,
   "metadata": {},
   "outputs": [],
   "source": [
    "model = Sequential([\n",
    "    Conv2D(32 , (3,3) , activation = \"relu\" , input_shape =(200,200,3)),\n",
    "    MaxPooling2D(32,padding=\"same\"),\n",
    "    Conv2D(32 , (3,3) , activation = \"relu\" ),\n",
    "    MaxPooling2D(32,padding=\"same\"),\n",
    "    Flatten(),\n",
    "    Dense(64 , activation = \"relu\"),\n",
    "    Dense(1,activation = \"sigmoid\")\n",
    "])"
   ]
  },
  {
   "cell_type": "code",
   "execution_count": 10,
   "metadata": {},
   "outputs": [
    {
     "name": "stdout",
     "output_type": "stream",
     "text": [
      "Model: \"sequential\"\n",
      "_________________________________________________________________\n",
      " Layer (type)                Output Shape              Param #   \n",
      "=================================================================\n",
      " conv2d (Conv2D)             (None, 198, 198, 32)      896       \n",
      "                                                                 \n",
      " max_pooling2d (MaxPooling2D  (None, 7, 7, 32)         0         \n",
      " )                                                               \n",
      "                                                                 \n",
      " conv2d_1 (Conv2D)           (None, 5, 5, 32)          9248      \n",
      "                                                                 \n",
      " max_pooling2d_1 (MaxPooling  (None, 1, 1, 32)         0         \n",
      " 2D)                                                             \n",
      "                                                                 \n",
      " flatten (Flatten)           (None, 32)                0         \n",
      "                                                                 \n",
      " dense (Dense)               (None, 64)                2112      \n",
      "                                                                 \n",
      " dense_1 (Dense)             (None, 1)                 65        \n",
      "                                                                 \n",
      "=================================================================\n",
      "Total params: 12,321\n",
      "Trainable params: 12,321\n",
      "Non-trainable params: 0\n",
      "_________________________________________________________________\n"
     ]
    }
   ],
   "source": [
    "model.summary()"
   ]
  },
  {
   "cell_type": "code",
   "execution_count": 11,
   "metadata": {},
   "outputs": [],
   "source": [
    "model.compile(loss =\"binary_crossentropy\" , optimizer= \"adam\",metrics=['accuracy'])"
   ]
  },
  {
   "cell_type": "code",
   "execution_count": 21,
   "metadata": {},
   "outputs": [
    {
     "name": "stdout",
     "output_type": "stream",
     "text": [
      "Epoch 1/50\n",
      "3/3 [==============================] - 3s 259ms/step - loss: 0.6878 - accuracy: 0.5000\n",
      "Epoch 2/50\n",
      "3/3 [==============================] - 1s 235ms/step - loss: 0.6622 - accuracy: 0.5875\n",
      "Epoch 3/50\n",
      "3/3 [==============================] - 1s 232ms/step - loss: 0.6439 - accuracy: 0.7625\n",
      "Epoch 4/50\n",
      "3/3 [==============================] - 1s 223ms/step - loss: 0.6226 - accuracy: 0.8750\n",
      "Epoch 5/50\n",
      "3/3 [==============================] - 1s 217ms/step - loss: 0.5930 - accuracy: 0.9375\n",
      "Epoch 6/50\n",
      "3/3 [==============================] - 1s 220ms/step - loss: 0.5612 - accuracy: 0.9250\n",
      "Epoch 7/50\n",
      "3/3 [==============================] - 1s 231ms/step - loss: 0.5306 - accuracy: 0.9125\n",
      "Epoch 8/50\n",
      "3/3 [==============================] - 1s 224ms/step - loss: 0.4929 - accuracy: 0.9250\n",
      "Epoch 9/50\n",
      "3/3 [==============================] - 1s 222ms/step - loss: 0.4438 - accuracy: 0.9250\n",
      "Epoch 10/50\n",
      "3/3 [==============================] - 1s 230ms/step - loss: 0.4015 - accuracy: 0.9375\n",
      "Epoch 11/50\n",
      "3/3 [==============================] - 1s 216ms/step - loss: 0.3569 - accuracy: 0.9125\n",
      "Epoch 12/50\n",
      "3/3 [==============================] - 1s 209ms/step - loss: 0.3178 - accuracy: 0.9375\n",
      "Epoch 13/50\n",
      "3/3 [==============================] - 1s 209ms/step - loss: 0.2756 - accuracy: 0.9250\n",
      "Epoch 14/50\n",
      "3/3 [==============================] - 1s 204ms/step - loss: 0.2479 - accuracy: 0.9250\n",
      "Epoch 15/50\n",
      "3/3 [==============================] - 1s 215ms/step - loss: 0.2192 - accuracy: 0.9250\n",
      "Epoch 16/50\n",
      "3/3 [==============================] - 1s 210ms/step - loss: 0.2003 - accuracy: 0.9250\n",
      "Epoch 17/50\n",
      "3/3 [==============================] - 1s 202ms/step - loss: 0.1866 - accuracy: 0.9250\n",
      "Epoch 18/50\n",
      "3/3 [==============================] - 1s 197ms/step - loss: 0.1880 - accuracy: 0.9375\n",
      "Epoch 19/50\n",
      "3/3 [==============================] - 1s 202ms/step - loss: 0.1721 - accuracy: 0.9375\n",
      "Epoch 20/50\n",
      "3/3 [==============================] - 1s 215ms/step - loss: 0.1673 - accuracy: 0.9375\n",
      "Epoch 21/50\n",
      "3/3 [==============================] - 1s 209ms/step - loss: 0.1624 - accuracy: 0.9500\n",
      "Epoch 22/50\n",
      "3/3 [==============================] - 1s 211ms/step - loss: 0.1539 - accuracy: 0.9625\n",
      "Epoch 23/50\n",
      "3/3 [==============================] - 1s 206ms/step - loss: 0.1461 - accuracy: 0.9375\n",
      "Epoch 24/50\n",
      "3/3 [==============================] - 1s 207ms/step - loss: 0.1341 - accuracy: 0.9500\n",
      "Epoch 25/50\n",
      "3/3 [==============================] - 1s 198ms/step - loss: 0.1400 - accuracy: 0.9500\n",
      "Epoch 26/50\n",
      "3/3 [==============================] - 1s 199ms/step - loss: 0.1415 - accuracy: 0.9500\n",
      "Epoch 27/50\n",
      "3/3 [==============================] - 1s 203ms/step - loss: 0.1560 - accuracy: 0.9375\n",
      "Epoch 28/50\n",
      "3/3 [==============================] - 1s 204ms/step - loss: 0.1255 - accuracy: 0.9625\n",
      "Epoch 29/50\n",
      "3/3 [==============================] - 1s 199ms/step - loss: 0.1208 - accuracy: 0.9500\n",
      "Epoch 30/50\n",
      "3/3 [==============================] - 1s 204ms/step - loss: 0.1193 - accuracy: 0.9625\n",
      "Epoch 31/50\n",
      "3/3 [==============================] - 1s 203ms/step - loss: 0.0972 - accuracy: 0.9750\n",
      "Epoch 32/50\n",
      "3/3 [==============================] - 1s 205ms/step - loss: 0.1339 - accuracy: 0.9375\n",
      "Epoch 33/50\n",
      "3/3 [==============================] - 1s 204ms/step - loss: 0.1189 - accuracy: 0.9500\n",
      "Epoch 34/50\n",
      "3/3 [==============================] - 1s 204ms/step - loss: 0.1100 - accuracy: 0.9625\n",
      "Epoch 35/50\n",
      "3/3 [==============================] - 1s 207ms/step - loss: 0.1000 - accuracy: 0.9750\n",
      "Epoch 36/50\n",
      "3/3 [==============================] - 1s 205ms/step - loss: 0.0904 - accuracy: 0.9750\n",
      "Epoch 37/50\n",
      "3/3 [==============================] - 1s 206ms/step - loss: 0.0987 - accuracy: 0.9625\n",
      "Epoch 38/50\n",
      "3/3 [==============================] - 1s 200ms/step - loss: 0.0806 - accuracy: 0.9750\n",
      "Epoch 39/50\n",
      "3/3 [==============================] - 1s 203ms/step - loss: 0.0925 - accuracy: 0.9750\n",
      "Epoch 40/50\n",
      "3/3 [==============================] - 1s 200ms/step - loss: 0.0889 - accuracy: 0.9750\n",
      "Epoch 41/50\n",
      "3/3 [==============================] - 1s 200ms/step - loss: 0.0782 - accuracy: 0.9875\n",
      "Epoch 42/50\n",
      "3/3 [==============================] - 1s 200ms/step - loss: 0.0738 - accuracy: 0.9750\n",
      "Epoch 43/50\n",
      "3/3 [==============================] - 1s 206ms/step - loss: 0.0688 - accuracy: 0.9750\n",
      "Epoch 44/50\n",
      "3/3 [==============================] - 1s 207ms/step - loss: 0.0733 - accuracy: 0.9750\n",
      "Epoch 45/50\n",
      "3/3 [==============================] - 1s 213ms/step - loss: 0.0623 - accuracy: 0.9875\n",
      "Epoch 46/50\n",
      "3/3 [==============================] - 1s 210ms/step - loss: 0.0617 - accuracy: 0.9750\n",
      "Epoch 47/50\n",
      "3/3 [==============================] - 1s 203ms/step - loss: 0.0629 - accuracy: 0.9750\n",
      "Epoch 48/50\n",
      "3/3 [==============================] - 1s 201ms/step - loss: 0.0610 - accuracy: 0.9750\n",
      "Epoch 49/50\n",
      "3/3 [==============================] - 1s 205ms/step - loss: 0.0571 - accuracy: 0.9875\n",
      "Epoch 50/50\n",
      "3/3 [==============================] - 1s 203ms/step - loss: 0.0518 - accuracy: 0.9875\n"
     ]
    },
    {
     "data": {
      "text/plain": [
       "<keras.callbacks.History at 0x27fbfd51350>"
      ]
     },
     "execution_count": 21,
     "metadata": {},
     "output_type": "execute_result"
    }
   ],
   "source": [
    "model.fit(x,y,epochs=50 ,batch_size=32)"
   ]
  },
  {
   "cell_type": "code",
   "execution_count": 14,
   "metadata": {},
   "outputs": [],
   "source": [
    "test = cv.imread(\"test1.jpg\")\n",
    "test = cv.cvtColor(test,cv.COLOR_BGR2RGB)\n",
    "test = cv.resize(test,(200,200))\n",
    "test = test.reshape(1,200,200,3)"
   ]
  },
  {
   "cell_type": "code",
   "execution_count": 16,
   "metadata": {},
   "outputs": [
    {
     "name": "stdout",
     "output_type": "stream",
     "text": [
      "1/1 [==============================] - 0s 30ms/step\n",
      "apple fruit\n"
     ]
    }
   ],
   "source": [
    "ans = model.predict(test)\n",
    "print(classes[int(ans[0])])"
   ]
  },
  {
   "cell_type": "code",
   "execution_count": null,
   "metadata": {},
   "outputs": [],
   "source": []
  }
 ],
 "metadata": {
  "kernelspec": {
   "display_name": "Python 3",
   "language": "python",
   "name": "python3"
  },
  "language_info": {
   "codemirror_mode": {
    "name": "ipython",
    "version": 3
   },
   "file_extension": ".py",
   "mimetype": "text/x-python",
   "name": "python",
   "nbconvert_exporter": "python",
   "pygments_lexer": "ipython3",
   "version": "3.11.3"
  },
  "orig_nbformat": 4
 },
 "nbformat": 4,
 "nbformat_minor": 2
}
